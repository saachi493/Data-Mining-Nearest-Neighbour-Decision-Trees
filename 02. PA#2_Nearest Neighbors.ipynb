{
 "cells": [
  {
   "cell_type": "markdown",
   "metadata": {},
   "source": [
    "# PA 2: Classification - Nearest Neighbors"
   ]
  },
  {
   "cell_type": "markdown",
   "metadata": {},
   "source": [
    "## Student Details (1 Point)\n",
    "Student Name and ID:___ <-- Only this student will submit the assignment\n",
    "\n",
    "Student Name and ID:___\n",
    "\n",
    "\n",
    "Notes: When submitting, fill your name and ID in this cell. [1 point]\n",
    "\n",
    "Do not to forget to cite any external sources used by you."
   ]
  },
  {
   "cell_type": "markdown",
   "metadata": {},
   "source": [
    "## Programming Assignment Submission Instructions ( 2 Points)\n",
    "\n",
    "\n",
    "Step 3: Rename this submission file as 'yourLastName_Last4digitsofyourID_NN.ipynb' [1 point]\n",
    "\n",
    "Step 4: Place this file inside the folder 'PA#2_Classification_yourLastName' [1 point]"
   ]
  },
  {
   "cell_type": "markdown",
   "metadata": {},
   "source": [
    "## Programming Assignment Details (25 Points)\n",
    "\n",
    "\n",
    "\n",
    "For this assignment use Jupyter notebook, Panda, and scikit.\n",
    "\n",
    "1) Load iris dataset from sklearn datasets. [1 points]\n",
    "\n",
    "\n",
    "2) Split your dataset 70% for training, and 30% for testing the classifier. [2 points]\n",
    "\n",
    "\n",
    "3) Select only 2 attributes for training and testing your model. [2 points]\n",
    "\n",
    "\n",
    "4) Use Euclidean distance. [3 points]\n",
    "\n",
    "\n",
    "5) Test the classifier with three diferent numbers for neighbors and record the results. [3 points]\n",
    "\n",
    "\n",
    "6) Use comments to explain your code and variable names.[2 points]\n",
    "\n",
    "\n",
    "7) Calculate and print the confusion matrix, and the classification Report (includes:precision, recall, f1-score, and support) for all three different numbers.[6 points]\n",
    "\n",
    "\n",
    "8) Plot the classifier in a 2D projection for all three different numbers.[6 points]"
   ]
  },
  {
   "cell_type": "markdown",
   "metadata": {},
   "source": [
    "## Report (20 Points)\n",
    "\n",
    "For each classification task you need to submit a report (Microsoft Word, or PDF) that you have to:\n",
    "\n",
    "\n",
    "1) Describe the Nearest Neighbors method, [5 points]\n",
    "\n",
    "\n",
    "2) Explain what was your criteria for selecting the two attributes, [5 points]\n",
    "\n",
    "\n",
    "3) Visualizations of the classifier in a 2D projection, for all three different number of neighbors,[5 points]\n",
    "\n",
    "\n",
    "4) Interprete and compare the results.[5 points]\n",
    "\n",
    "Do not to forget to cite your sources!"
   ]
  },
  {
   "cell_type": "markdown",
   "metadata": {},
   "source": [
    "## Canvas Submission (2 Points)\n",
    "\n",
    "Step 5 : Submit your zipped folder containing PA#2_Classification_yourLastName (PA#2_Classification_yourLastName.zip) on Canvas"
   ]
  },
  {
   "cell_type": "markdown",
   "metadata": {},
   "source": [
    "# - - - - - - - - - - - - - - - Solution - - - - - - - - - - - - - - - - - - "
   ]
  },
  {
   "cell_type": "code",
   "execution_count": null,
   "metadata": {},
   "outputs": [],
   "source": []
  }
 ],
 "metadata": {
  "kernelspec": {
   "display_name": "Python(chs_py36)",
   "language": "python",
   "name": "myenv"
  },
  "language_info": {
   "codemirror_mode": {
    "name": "ipython",
    "version": 3
   },
   "file_extension": ".py",
   "mimetype": "text/x-python",
   "name": "python",
   "nbconvert_exporter": "python",
   "pygments_lexer": "ipython3",
   "version": "3.6.10"
  }
 },
 "nbformat": 4,
 "nbformat_minor": 1
}
